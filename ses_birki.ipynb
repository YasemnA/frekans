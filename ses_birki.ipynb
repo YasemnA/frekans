{
  "nbformat": 4,
  "nbformat_minor": 0,
  "metadata": {
    "colab": {
      "provenance": [],
      "authorship_tag": "ABX9TyNGfCp5uGoV9/uK8VgJcQX3",
      "include_colab_link": true
    },
    "kernelspec": {
      "name": "python3",
      "display_name": "Python 3"
    },
    "language_info": {
      "name": "python"
    }
  },
  "cells": [
    {
      "cell_type": "markdown",
      "metadata": {
        "id": "view-in-github",
        "colab_type": "text"
      },
      "source": [
        "<a href=\"https://colab.research.google.com/github/YasemnA/frekans/blob/main/ses_birki.ipynb\" target=\"_parent\"><img src=\"https://colab.research.google.com/assets/colab-badge.svg\" alt=\"Open In Colab\"/></a>"
      ]
    },
    {
      "cell_type": "code",
      "source": [
        "from google.colab import drive\n",
        "drive.mount('/content/gdrive')"
      ],
      "metadata": {
        "colab": {
          "base_uri": "https://localhost:8080/"
        },
        "id": "Gy57yvDocCW2",
        "outputId": "6dde8abf-0f22-4c3c-f1bd-32caf20ed492"
      },
      "execution_count": null,
      "outputs": [
        {
          "output_type": "stream",
          "name": "stdout",
          "text": [
            "Mounted at /content/gdrive\n"
          ]
        }
      ]
    },
    {
      "cell_type": "code",
      "source": [
        "%cd /content/gdrive/My Drive/Colab Notebooks/arm/"
      ],
      "metadata": {
        "colab": {
          "base_uri": "https://localhost:8080/"
        },
        "id": "1Jozdi4KcaI0",
        "outputId": "02e80b04-3334-4732-aadd-b8eea528c251"
      },
      "execution_count": null,
      "outputs": [
        {
          "output_type": "stream",
          "name": "stdout",
          "text": [
            "/content/gdrive/My Drive/Colab Notebooks/arm\n"
          ]
        }
      ]
    },
    {
      "cell_type": "code",
      "source": [
        "%ls"
      ],
      "metadata": {
        "colab": {
          "base_uri": "https://localhost:8080/"
        },
        "id": "HFXqs6xGd7oa",
        "outputId": "d0894c71-1163-4b1e-9328-226574478224"
      },
      "execution_count": null,
      "outputs": [
        {
          "output_type": "stream",
          "name": "stdout",
          "text": [
            "TunePocket-Solfeggio-Frequency-396-Hz-Deliver-Dread-Preview.mp3\n",
            "TunePocket-Solfeggio-Frequency-417-Hz-Aid-Adjustment-Preview.mp3\n",
            "TunePocket-Solfeggio-Frequency-528-Hz-Marvel-Density-Preview.mp3\n",
            "TunePocket-Solfeggio-Frequency-639-Hz-Advance-Affair-Preview.mp3\n",
            "TunePocket-Solfeggio-Frequency-741-Hz-Purge-Distrust-Preview.mp3\n",
            "TunePocket-Solfeggio-Frequency-825-Hz-Appeal-To-Hunch-Preview.mp3\n",
            "Untitled0.ipynb\n"
          ]
        }
      ]
    },
    {
      "cell_type": "code",
      "source": [
        "import os\n",
        "img_dir = '/content/gdrive/My Drive/Colab Notebooks/arm'\n",
        "\n",
        "filenames = [os.path.abspath(os.path.join(img_dir, x)) for x in os.listdir(img_dir) if '.mp3' in x]"
      ],
      "metadata": {
        "id": "tHZrZTvcjjAA"
      },
      "execution_count": null,
      "outputs": []
    },
    {
      "cell_type": "code",
      "source": [
        "filenames\n"
      ],
      "metadata": {
        "colab": {
          "base_uri": "https://localhost:8080/"
        },
        "id": "7kIw-4dpjxrb",
        "outputId": "cf60bfa3-d709-4193-853b-56706d1c5e72"
      },
      "execution_count": null,
      "outputs": [
        {
          "output_type": "execute_result",
          "data": {
            "text/plain": [
              "['/content/gdrive/My Drive/Colab Notebooks/arm/TunePocket-Solfeggio-Frequency-417-Hz-Aid-Adjustment-Preview.mp3',\n",
              " '/content/gdrive/My Drive/Colab Notebooks/arm/TunePocket-Solfeggio-Frequency-528-Hz-Marvel-Density-Preview.mp3',\n",
              " '/content/gdrive/My Drive/Colab Notebooks/arm/TunePocket-Solfeggio-Frequency-396-Hz-Deliver-Dread-Preview.mp3',\n",
              " '/content/gdrive/My Drive/Colab Notebooks/arm/TunePocket-Solfeggio-Frequency-639-Hz-Advance-Affair-Preview.mp3',\n",
              " '/content/gdrive/My Drive/Colab Notebooks/arm/TunePocket-Solfeggio-Frequency-741-Hz-Purge-Distrust-Preview.mp3',\n",
              " '/content/gdrive/My Drive/Colab Notebooks/arm/TunePocket-Solfeggio-Frequency-825-Hz-Appeal-To-Hunch-Preview.mp3']"
            ]
          },
          "metadata": {},
          "execution_count": 17
        }
      ]
    },
    {
      "cell_type": "code",
      "source": [
        "import numpy as np\n",
        "\n",
        "# Özellik çıkarımı\n",
        "def extract_features(file_names):\n",
        "    features = []\n",
        "    for file_name in file_names:\n",
        "        audio, _ = librosa.load(file_name, sr=None)\n",
        "        feature = librosa.feature.mfcc(y=audio)\n",
        "        features.append(feature.T)\n",
        "    return features\n",
        "\n",
        "# Etiketler\n",
        "labels = [\"396 Hz\", \"417 Hz\", \"528 Hz\", \"639 Hz\", \"741 Hz\", \"852 Hz\"]\n",
        "\n",
        "# Ses dosyalarından özellik çıkarımı\n",
        "features = extract_features(filenames)\n",
        "\n",
        "# Veri setini oluşturma\n",
        "X = np.concatenate(features)\n",
        "y = np.repeat(np.arange(len(labels)), [len(feature) for feature in features])"
      ],
      "metadata": {
        "id": "WN5fa_aVkUJJ"
      },
      "execution_count": null,
      "outputs": []
    },
    {
      "cell_type": "code",
      "source": [
        "from sklearn.model_selection import train_test_split\n",
        "X_train, X_test, y_train, y_test = train_test_split(X, y, test_size=0.2, random_state=42)"
      ],
      "metadata": {
        "id": "sodKEtollWqA"
      },
      "execution_count": null,
      "outputs": []
    },
    {
      "cell_type": "code",
      "source": [
        "import librosa\n",
        "from keras.models import Sequential\n",
        "from keras.layers import Dense"
      ],
      "metadata": {
        "id": "hampKbO6m_jM"
      },
      "execution_count": null,
      "outputs": []
    },
    {
      "cell_type": "code",
      "source": [
        "from keras.utils import to_categorical\n",
        "\n",
        "# Çıktı verilerini kategorik hale getirme\n",
        "y_train_categorical = to_categorical(y_train)\n",
        "y_test_categorical = to_categorical(y_test)\n",
        "\n",
        "# MLP modelini oluşturma\n",
        "n_features = X_train.shape[1]\n",
        "n_classes = y_train_categorical.shape[1]\n",
        "\n",
        "model = Sequential()\n",
        "model.add(Dense(128, activation='relu', input_shape=(n_features,)))\n",
        "model.add(Dense(64, activation='relu'))\n",
        "model.add(Dense(n_classes, activation='softmax'))\n",
        "\n",
        "# Modeli derleme\n",
        "model.compile(loss='categorical_crossentropy', optimizer='adam', metrics=['accuracy'])\n",
        "\n",
        "# Modeli eğitme\n",
        "model.fit(X_train, y_train_categorical, validation_data=(X_test, y_test_categorical), epochs=10, batch_size=32)"
      ],
      "metadata": {
        "colab": {
          "base_uri": "https://localhost:8080/"
        },
        "id": "YIP7vcBEljJk",
        "outputId": "0ea75f84-6217-424e-f531-5d52fd918654"
      },
      "execution_count": null,
      "outputs": [
        {
          "output_type": "stream",
          "name": "stdout",
          "text": [
            "Epoch 1/10\n",
            "7744/7744 [==============================] - 20s 2ms/step - loss: 0.4352 - accuracy: 0.8654 - val_loss: 0.2511 - val_accuracy: 0.9095\n",
            "Epoch 2/10\n",
            "7744/7744 [==============================] - 20s 3ms/step - loss: 0.2347 - accuracy: 0.9162 - val_loss: 0.2082 - val_accuracy: 0.9243\n",
            "Epoch 3/10\n",
            "7744/7744 [==============================] - 17s 2ms/step - loss: 0.2013 - accuracy: 0.9271 - val_loss: 0.1848 - val_accuracy: 0.9319\n",
            "Epoch 4/10\n",
            "7744/7744 [==============================] - 17s 2ms/step - loss: 0.1836 - accuracy: 0.9337 - val_loss: 0.1730 - val_accuracy: 0.9363\n",
            "Epoch 5/10\n",
            "7744/7744 [==============================] - 16s 2ms/step - loss: 0.1726 - accuracy: 0.9373 - val_loss: 0.1729 - val_accuracy: 0.9366\n",
            "Epoch 6/10\n",
            "7744/7744 [==============================] - 17s 2ms/step - loss: 0.1645 - accuracy: 0.9402 - val_loss: 0.1621 - val_accuracy: 0.9395\n",
            "Epoch 7/10\n",
            "7744/7744 [==============================] - 18s 2ms/step - loss: 0.1593 - accuracy: 0.9423 - val_loss: 0.1533 - val_accuracy: 0.9439\n",
            "Epoch 8/10\n",
            "7744/7744 [==============================] - 17s 2ms/step - loss: 0.1539 - accuracy: 0.9445 - val_loss: 0.1461 - val_accuracy: 0.9468\n",
            "Epoch 9/10\n",
            "7744/7744 [==============================] - 17s 2ms/step - loss: 0.1506 - accuracy: 0.9455 - val_loss: 0.1505 - val_accuracy: 0.9449\n",
            "Epoch 10/10\n",
            "7744/7744 [==============================] - 17s 2ms/step - loss: 0.1474 - accuracy: 0.9469 - val_loss: 0.1479 - val_accuracy: 0.9458\n"
          ]
        },
        {
          "output_type": "execute_result",
          "data": {
            "text/plain": [
              "<keras.callbacks.History at 0x7fccb8249f60>"
            ]
          },
          "metadata": {},
          "execution_count": 27
        }
      ]
    },
    {
      "cell_type": "code",
      "source": [
        "model.save(\"ses_siniflandirma_modeli.h5\")\n"
      ],
      "metadata": {
        "id": "sBNPXfIan_09"
      },
      "execution_count": null,
      "outputs": []
    }
  ]
}